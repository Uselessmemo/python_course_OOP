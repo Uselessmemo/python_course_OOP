{
 "cells": [
  {
   "cell_type": "code",
   "execution_count": 1,
   "metadata": {},
   "outputs": [],
   "source": [
    "from abc import ABC, abstractmethod"
   ]
  },
  {
   "cell_type": "code",
   "execution_count": 2,
   "metadata": {},
   "outputs": [],
   "source": [
    "class Character(ABC):\n",
    "    @abstractmethod\n",
    "    def get_positive_effects(self):\n",
    "        pass\n",
    "    \n",
    "    @abstractmethod\n",
    "    def get_negative_effects(self):\n",
    "        pass\n",
    "    \n",
    "    @abstractmethod\n",
    "    def get_stats(self):\n",
    "        pass"
   ]
  },
  {
   "cell_type": "code",
   "execution_count": 3,
   "metadata": {},
   "outputs": [],
   "source": [
    "class Hero(Character):\n",
    "    def __init__(self):\n",
    "        self.positive_effects = []\n",
    "        self.negative_effects = []\n",
    "        self.stats = {\n",
    "            \"HP\": 128,  # health points\n",
    "            \"MP\": 42,  # magic points, \n",
    "            \"SP\": 100,  # skill points\n",
    "            \"Strength\": 15,  # сила\n",
    "            \"Perception\": 4,  # восприятие\n",
    "            \"Endurance\": 8,  # выносливость\n",
    "            \"Charisma\": 2,  # харизма\n",
    "            \"Intelligence\": 3,  # интеллект\n",
    "            \"Agility\": 8,  # ловкость \n",
    "            \"Luck\": 1  # удача\n",
    "        }\n",
    "\n",
    "    def get_positive_effects(self):\n",
    "        return self.positive_effects.copy()\n",
    "\n",
    "    def get_negative_effects(self):\n",
    "        return self.negative_effects.copy()\n",
    "\n",
    "    def get_stats(self):\n",
    "        return self.stats.copy()"
   ]
  },
  {
   "cell_type": "code",
   "execution_count": 4,
   "metadata": {},
   "outputs": [],
   "source": [
    "class AbstractEffect(Character):\n",
    "    def __init__(self, base):\n",
    "        self.base = base\n",
    "        \n",
    "    def get_positive_effects(self):\n",
    "        self.base.get_positive_effects()\n",
    "        \n",
    "    def get_negative_effects(self):\n",
    "        self.base.get_negative_effects()\n",
    "        \n",
    "    def get_stats(self):\n",
    "        self.base.get_stats() "
   ]
  },
  {
   "cell_type": "code",
   "execution_count": 5,
   "metadata": {},
   "outputs": [],
   "source": [
    "class AbstractNegative(AbstractEffect):\n",
    "    pass"
   ]
  },
  {
   "cell_type": "code",
   "execution_count": 6,
   "metadata": {},
   "outputs": [],
   "source": [
    "class AbstractPositive(AbstractEffect):\n",
    "    pass"
   ]
  },
  {
   "cell_type": "code",
   "execution_count": 43,
   "metadata": {},
   "outputs": [],
   "source": [
    "class Berserk(AbstractPositive):\n",
    "    def get_positive_effects(self):\n",
    "        return self.base.get_positive_effects() + ['Berserk']\n",
    "        \n",
    "    def get_negative_effects(self):\n",
    "        return self.base.get_negative_effects()\n",
    "        \n",
    "    def get_stats(self):\n",
    "        stats = self.base.get_stats()\n",
    "        stats['Strength'] += 7\n",
    "        stats['Agility'] += 7\n",
    "        stats['Luck'] += 7\n",
    "        stats['Perception'] -= 3\n",
    "        stats['Charisma'] -= 3\n",
    "        stats['Intelligence'] -= 3\n",
    "        stats['HP'] += 50\n",
    "        return stats"
   ]
  },
  {
   "cell_type": "code",
   "execution_count": 49,
   "metadata": {},
   "outputs": [],
   "source": [
    "class Curse(AbstractNegative):\n",
    "    def get_positive_effects(self):\n",
    "        return self.base.get_positive_effects()\n",
    "        \n",
    "    def get_negative_effects(self):\n",
    "        return self.base.get_negative_effects() + ['Curse']\n",
    "        \n",
    "    def get_stats(self):\n",
    "        stats = self.base.get_stats()\n",
    "        stats['Strength'] -= 2\n",
    "        stats['Agility'] -= 2\n",
    "        stats['Luck'] -= 2\n",
    "        stats['Perception'] -= 2\n",
    "        stats['Charisma'] -= 2\n",
    "        stats['Intelligence'] -= 2\n",
    "        return stats"
   ]
  },
  {
   "cell_type": "code",
   "execution_count": 27,
   "metadata": {},
   "outputs": [],
   "source": [
    "sanya = Hero()"
   ]
  },
  {
   "cell_type": "code",
   "execution_count": 44,
   "metadata": {},
   "outputs": [],
   "source": [
    "brs = Berserk(sanya)"
   ]
  },
  {
   "cell_type": "code",
   "execution_count": 33,
   "metadata": {},
   "outputs": [
    {
     "data": {
      "text/plain": [
       "{'HP': 178,\n",
       " 'MP': 42,\n",
       " 'SP': 100,\n",
       " 'Strength': 22,\n",
       " 'Perception': 1,\n",
       " 'Endurance': 8,\n",
       " 'Charisma': -1,\n",
       " 'Intelligence': 0,\n",
       " 'Agility': 15,\n",
       " 'Luck': 8}"
      ]
     },
     "execution_count": 33,
     "metadata": {},
     "output_type": "execute_result"
    }
   ],
   "source": [
    "brs.get_stats()\n",
    "brs.get_negative_effects()\n",
    "brs.get_positive_effects()"
   ]
  },
  {
   "cell_type": "code",
   "execution_count": 50,
   "metadata": {},
   "outputs": [],
   "source": [
    "brs2 = Berserk(brs)\n",
    "cur1 = Curse(brs2)"
   ]
  },
  {
   "cell_type": "code",
   "execution_count": 52,
   "metadata": {},
   "outputs": [
    {
     "name": "stdout",
     "output_type": "stream",
     "text": [
      "{'HP': 228, 'MP': 42, 'SP': 100, 'Strength': 27, 'Perception': -4, 'Endurance': 8, 'Charisma': -6, 'Intelligence': -5, 'Agility': 20, 'Luck': 13}\n",
      "['Curse']\n",
      "['Berserk', 'Berserk']\n"
     ]
    }
   ],
   "source": [
    "print(cur1.get_stats())\n",
    "print(cur1.get_negative_effects())\n",
    "print(cur1.get_positive_effects())"
   ]
  },
  {
   "cell_type": "code",
   "execution_count": 54,
   "metadata": {},
   "outputs": [],
   "source": [
    "cur1.base = brs"
   ]
  },
  {
   "cell_type": "code",
   "execution_count": 55,
   "metadata": {},
   "outputs": [
    {
     "name": "stdout",
     "output_type": "stream",
     "text": [
      "{'HP': 178, 'MP': 42, 'SP': 100, 'Strength': 20, 'Perception': -1, 'Endurance': 8, 'Charisma': -3, 'Intelligence': -2, 'Agility': 13, 'Luck': 6}\n",
      "['Curse']\n",
      "['Berserk']\n"
     ]
    }
   ],
   "source": [
    "print(cur1.get_stats())\n",
    "print(cur1.get_negative_effects())\n",
    "print(cur1.get_positive_effects())"
   ]
  },
  {
   "cell_type": "code",
   "execution_count": null,
   "metadata": {},
   "outputs": [],
   "source": []
  }
 ],
 "metadata": {
  "kernelspec": {
   "display_name": "Python 3",
   "language": "python",
   "name": "python3"
  },
  "language_info": {
   "codemirror_mode": {
    "name": "ipython",
    "version": 3
   },
   "file_extension": ".py",
   "mimetype": "text/x-python",
   "name": "python",
   "nbconvert_exporter": "python",
   "pygments_lexer": "ipython3",
   "version": "3.8.5"
  }
 },
 "nbformat": 4,
 "nbformat_minor": 4
}
