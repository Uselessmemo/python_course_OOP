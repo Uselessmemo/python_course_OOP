{
 "cells": [
  {
   "cell_type": "code",
   "execution_count": 2,
   "metadata": {},
   "outputs": [],
   "source": [
    "from abc import ABC, abstractmethod"
   ]
  },
  {
   "cell_type": "code",
   "execution_count": 3,
   "metadata": {},
   "outputs": [],
   "source": [
    "class Engine:\n",
    "    pass"
   ]
  },
  {
   "cell_type": "code",
   "execution_count": 4,
   "metadata": {},
   "outputs": [],
   "source": [
    "class ObservableEngine(Engine):\n",
    "    def __init__(self):\n",
    "        self.__subscribers = set()\n",
    "        \n",
    "    def subscribe(self, subscriber):\n",
    "        self.__subscribers.add(subscriber)\n",
    "        \n",
    "    def unsubscribe(self, subscriber):\n",
    "        self.__subscribers.remove(subscriber)\n",
    "        \n",
    "    def notify(self, message):\n",
    "        for subscriber in self.__subscribers:\n",
    "            subscriber.update(message)"
   ]
  },
  {
   "cell_type": "code",
   "execution_count": 5,
   "metadata": {},
   "outputs": [],
   "source": [
    "class AbstractObserver(ABC):\n",
    "    def __init__(self, name):\n",
    "        self.name = name\n",
    "        \n",
    "    @abstractmethod\n",
    "    def update(self, message):\n",
    "        pass"
   ]
  },
  {
   "cell_type": "code",
   "execution_count": 6,
   "metadata": {},
   "outputs": [],
   "source": [
    "class ShortNotificationPrinter(AbstractObserver):\n",
    "    def update(self, message):\n",
    "        print(f'{self.name} received new message!')"
   ]
  },
  {
   "cell_type": "code",
   "execution_count": 7,
   "metadata": {},
   "outputs": [],
   "source": [
    "class FullNotificationPrinter(AbstractObserver):\n",
    "    def update(self, message):\n",
    "        print(f'{self.name} received new message: {message}!')"
   ]
  },
  {
   "cell_type": "code",
   "execution_count": 8,
   "metadata": {},
   "outputs": [],
   "source": [
    "game_engine = ObservableEngine()\n",
    "not1 = ShortNotificationPrinter('short note')\n",
    "not2 = FullNotificationPrinter('full note')"
   ]
  },
  {
   "cell_type": "code",
   "execution_count": 9,
   "metadata": {},
   "outputs": [
    {
     "name": "stdout",
     "output_type": "stream",
     "text": [
      "full note received new message: Hello!\n",
      "short note received new message!\n"
     ]
    }
   ],
   "source": [
    "game_engine.subscribe(not1)\n",
    "game_engine.subscribe(not2)\n",
    "game_engine.notify('Hello')"
   ]
  },
  {
   "cell_type": "code",
   "execution_count": null,
   "metadata": {},
   "outputs": [],
   "source": []
  }
 ],
 "metadata": {
  "kernelspec": {
   "display_name": "Python 3",
   "language": "python",
   "name": "python3"
  },
  "language_info": {
   "codemirror_mode": {
    "name": "ipython",
    "version": 3
   },
   "file_extension": ".py",
   "mimetype": "text/x-python",
   "name": "python",
   "nbconvert_exporter": "python",
   "pygments_lexer": "ipython3",
   "version": "3.8.5"
  }
 },
 "nbformat": 4,
 "nbformat_minor": 4
}
