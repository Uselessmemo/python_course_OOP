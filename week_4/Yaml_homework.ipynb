{
 "cells": [
  {
   "cell_type": "code",
   "execution_count": 2,
   "metadata": {},
   "outputs": [],
   "source": [
    "import random\n",
    "import yaml\n",
    "from abc import ABC"
   ]
  },
  {
   "cell_type": "code",
   "execution_count": 7,
   "metadata": {},
   "outputs": [
    {
     "name": "stdout",
     "output_type": "stream",
     "text": [
      "{'levels': [{}, {'enemy': ['rat']}, {'enemy': ['rat', 'snake', 'dragon'], 'enemy_count': '10'}]}\n"
     ]
    }
   ],
   "source": [
    "Levels = yaml.load(\n",
    "'''\n",
    "levels:\n",
    "    - !easy_level {}\n",
    "    - !medium_level\n",
    "        enemy: ['rat']\n",
    "    - !hard_level\n",
    "        enemy:\n",
    "            - rat\n",
    "            - snake\n",
    "            - dragon\n",
    "        enemy_count: 10\n",
    "''', Loader=yaml.BaseLoader)\n",
    "print(Levels)"
   ]
  },
  {
   "cell_type": "code",
   "execution_count": 8,
   "metadata": {},
   "outputs": [],
   "source": [
    "class AbstractLevel(yaml.YAMLObject):\n",
    "\n",
    "    @classmethod\n",
    "    def get_map(cls):\n",
    "        return cls.Map()\n",
    "\n",
    "    @classmethod\n",
    "    def get_objects(cls):\n",
    "        return cls.Objects()\n",
    "\n",
    "    class Map(ABC):\n",
    "        pass\n",
    "\n",
    "    class Objects(ABC):\n",
    "        pass"
   ]
  },
  {
   "cell_type": "code",
   "execution_count": 9,
   "metadata": {},
   "outputs": [],
   "source": [
    "class EasyLevel(AbstractLevel):\n",
    "    class Map:\n",
    "        def __init__(self):\n",
    "            self.Map = [[0 for _ in range(5)] for _ in range(5)]\n",
    "            for i in range(5):\n",
    "                for j in range(5):\n",
    "                    if i == 0 or j == 0 or i == 4 or j == 4:\n",
    "                        self.Map[j][i] = -1  # граница карты\n",
    "                    else:\n",
    "                        self.Map[j][i] = random.randint(0, 2)  # случайная характеристика области\n",
    "\n",
    "        def get_map(self):\n",
    "            return self.Map\n",
    "\n",
    "    class Objects:\n",
    "        def __init__(self):\n",
    "            self.objects = [('next_lvl', (2, 2))]\n",
    "            self.config = {}\n",
    "\n",
    "        def get_objects(self, _map):\n",
    "            for obj_name in ['rat']:\n",
    "                coord = (random.randint(1, 3), random.randint(1, 3))\n",
    "                intersect = True\n",
    "                while intersect:\n",
    "                    intersect = False\n",
    "                    for obj in self.objects:\n",
    "                        if coord == obj[1]:\n",
    "                            intersect = True\n",
    "                            coord = (random.randint(1, 3), random.randint(1, 3))\n",
    "\n",
    "                self.objects.append((obj_name, coord))\n",
    "\n",
    "            return self.objects"
   ]
  },
  {
   "cell_type": "code",
   "execution_count": 10,
   "metadata": {},
   "outputs": [],
   "source": [
    "class MediumLevel(AbstractLevel):\n",
    "    class Map:\n",
    "        def __init__(self):\n",
    "            self.Map = [[0 for _ in range(8)] for _ in range(8)]\n",
    "            for i in range(8):\n",
    "                for j in range(8):\n",
    "                    if i == 0 or j == 0 or i == 7 or j == 7:\n",
    "                        self.Map[j][i] = -1  # граница карты\n",
    "                    else:\n",
    "                        self.Map[j][i] = random.randint(0, 2)  # случайная характеристика области\n",
    "\n",
    "        def get_map(self):\n",
    "            return self.Map\n",
    "\n",
    "    class Objects:\n",
    "        def __init__(self):\n",
    "            self.objects = [('next_lvl', (4, 4))]\n",
    "            self.config = {'enemy': []}\n",
    "\n",
    "        def get_objects(self, _map):\n",
    "            for obj_name in self.config['enemy']:\n",
    "                coord = (random.randint(1, 6), random.randint(1, 6))\n",
    "                intersect = True\n",
    "                while intersect:\n",
    "                    intersect = False\n",
    "                    for obj in self.objects:\n",
    "                        if coord == obj[1]:\n",
    "                            intersect = True\n",
    "                            coord = (random.randint(1, 6), random.randint(1, 6))\n",
    "\n",
    "                self.objects.append((obj_name, coord))\n",
    "\n",
    "            return self.objects"
   ]
  },
  {
   "cell_type": "code",
   "execution_count": 11,
   "metadata": {},
   "outputs": [],
   "source": [
    "class HardLevel(AbstractLevel):\n",
    "    class Map:\n",
    "        def __init__(self):\n",
    "            self.Map = [[0 for _ in range(10)] for _ in range(10)]\n",
    "            for i in range(10):\n",
    "                for j in range(10):\n",
    "                    if i == 0 or j == 0 or i == 9 or j == 9:\n",
    "                        self.Map[j][i] = -1  # граница карты :: непроходимый участок карты\n",
    "                    else:\n",
    "                        self.Map[j][i] = random.randint(-1, 8)  # случайная характеристика области\n",
    "\n",
    "        def get_map(self):\n",
    "            return self.Map\n",
    "\n",
    "    class Objects:\n",
    "        def __init__(self):\n",
    "            self.objects = [('next_lvl', (5, 5))]\n",
    "            self.config = {'enemy_count': 5, 'enemy': []}\n",
    "\n",
    "        def get_objects(self, _map):\n",
    "            for obj_name in self.config['enemy']:\n",
    "                for tmp_int in range(self.config['enemy_count']):\n",
    "                    coord = (random.randint(1, 8), random.randint(1, 8))\n",
    "                    intersect = True\n",
    "                    while intersect:\n",
    "                        intersect = False\n",
    "                        if _map[coord[0]][coord[1]] == -1:\n",
    "                            intersect = True\n",
    "                            coord = (random.randint(1, 8), random.randint(1, 8))\n",
    "                            continue\n",
    "                        for obj in self.objects:\n",
    "                            if coord == obj[1]:\n",
    "                                intersect = True\n",
    "                                coord = (random.randint(1, 8), random.randint(1, 8))\n",
    "\n",
    "                    self.objects.append((obj_name, coord))\n",
    "\n",
    "            return self.objects"
   ]
  },
  {
   "cell_type": "code",
   "execution_count": null,
   "metadata": {},
   "outputs": [],
   "source": []
  }
 ],
 "metadata": {
  "kernelspec": {
   "display_name": "Python 3",
   "language": "python",
   "name": "python3"
  },
  "language_info": {
   "codemirror_mode": {
    "name": "ipython",
    "version": 3
   },
   "file_extension": ".py",
   "mimetype": "text/x-python",
   "name": "python",
   "nbconvert_exporter": "python",
   "pygments_lexer": "ipython3",
   "version": "3.8.5"
  }
 },
 "nbformat": 4,
 "nbformat_minor": 4
}
