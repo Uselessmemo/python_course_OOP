{
 "cells": [
  {
   "cell_type": "code",
   "execution_count": 2,
   "metadata": {},
   "outputs": [],
   "source": [
    "import random\n",
    "from abc import ABC"
   ]
  },
  {
   "cell_type": "code",
   "execution_count": 3,
   "metadata": {},
   "outputs": [],
   "source": [
    "class AbstractLevel:\n",
    "    @classmethod\n",
    "    def get_map(Class):\n",
    "        return Class.Map()\n",
    "    \n",
    "    @classmethod\n",
    "    def get_objects(Class):\n",
    "        return Class.Objects()\n",
    "    \n",
    "    class Map(ABC):\n",
    "        pass\n",
    "\n",
    "    class Objects(ABC):\n",
    "        pass"
   ]
  },
  {
   "cell_type": "code",
   "execution_count": 4,
   "metadata": {},
   "outputs": [],
   "source": [
    "class EasyLevel(AbstractLevel):\n",
    "    class Map:\n",
    "\n",
    "        def __init__(self):\n",
    "            self._map = [[0 for j in range(5)] for i in range(5)]\n",
    "            for i in range(5):\n",
    "                for j in range(5):\n",
    "                    if i == 0 or j == 0 or i == 4 or j == 4:\n",
    "                        # граница карты\n",
    "                        self._map[j][i] = -1 \n",
    "                    else:\n",
    "                        # случайная характеристика области\n",
    "                        self._map[j][i] = random.randint(0, 2)\n",
    "\n",
    "        def get_map(self):\n",
    "            return self._map\n",
    "\n",
    "\n",
    "    class Objects:\n",
    "\n",
    "        def __init__(self):\n",
    "            # размещаем переход на след. уровень\n",
    "            self.objects = [('next_lvl', (2, 2))]\n",
    "\n",
    "        def get_objects(self, map_obj):\n",
    "            # размещаем противников\n",
    "            for obj_name in ['rat']:\n",
    "                coord = (random.randint(1, 3), random.randint(1, 3))\n",
    "                # ищем случайную свободную локацию\n",
    "                intersect = True\n",
    "                while intersect:\n",
    "                    intersect = False\n",
    "                    for obj in self.objects:\n",
    "                        if coord == obj[1]:\n",
    "                            intersect = True\n",
    "                            coord = (random.randint(1, 3), random.randint(1, 3))\n",
    "\n",
    "                self.objects.append((obj_name, coord))\n",
    "\n",
    "            return self.objects"
   ]
  },
  {
   "cell_type": "code",
   "execution_count": 5,
   "metadata": {},
   "outputs": [],
   "source": [
    "class MediumLevel(AbstractLevel):\n",
    "    \n",
    "    class Map:\n",
    "\n",
    "        def __init__(self):\n",
    "            self._map = [[0 for j in range(8)] for i in range(8)]\n",
    "            for i in range(8):\n",
    "                for j in range(8):\n",
    "                    if i == 0 or j == 0 or i == 7 or j == 7:\n",
    "                        # граница карты\n",
    "                        self._map[j][i] = -1  \n",
    "                    else:\n",
    "                        # случайная характеристика области\n",
    "                        self._map[j][i] = random.randint(0, 2)\n",
    "\n",
    "        def get_map(self):\n",
    "            return self._map\n",
    "\n",
    "\n",
    "    class Objects:\n",
    "\n",
    "        def __init__(self):\n",
    "            # размещаем переход на след. уровень\n",
    "            self.objects = [('next_lvl', (4, 4))]\n",
    "\n",
    "        def get_objects(self, map_obj):\n",
    "            # размещаем врагов\n",
    "            for obj_name in ['rat', 'snake']:\n",
    "                coord = (random.randint(1, 6), random.randint(1, 6))\n",
    "                # ищем случайную свободную локацию\n",
    "                intersect = True\n",
    "                while intersect:\n",
    "                    intersect = False\n",
    "                    for obj in self.objects:\n",
    "                        if coord == obj[1]:\n",
    "                            intersect = True\n",
    "                            coord = (random.randint(1, 6), random.randint(1, 6))\n",
    "\n",
    "                self.objects.append((obj_name, coord))\n",
    "\n",
    "            return self.objects"
   ]
  },
  {
   "cell_type": "code",
   "execution_count": 6,
   "metadata": {},
   "outputs": [],
   "source": [
    "class HardLevel(AbstractLevel):\n",
    "    \n",
    "    class Map:\n",
    "\n",
    "        def __init__(self):\n",
    "            self._map = [[0 for j in range(10)] for i in range(10)]\n",
    "            for i in range(10):\n",
    "                for j in range(10):\n",
    "                    if i == 0 or j == 0 or i == 9 or j == 9:\n",
    "                        # граница карты\n",
    "                        self._map[j][i] = -1\n",
    "                    else:\n",
    "                        # характеристика области (-1 для непроходимой обл.)\n",
    "                        self._map[j][i] = random.randint(-1, 8)\n",
    "\n",
    "        def get_map(self):\n",
    "            return self._map\n",
    "\n",
    "\n",
    "    class Objects:\n",
    "\n",
    "        def __init__(self):\n",
    "            # размещаем переход на след. уровень\n",
    "            self.objects = [('next_lvl', (5, 5))]\n",
    "\n",
    "        def get_objects(self, map_obj):\n",
    "            # размещаем врагов\n",
    "            for obj_name in ['rat', 'snake']:\n",
    "                coord = (random.randint(1, 8), random.randint(1, 8))\n",
    "                # ищем случайную свободную локацию\n",
    "                intersect = True\n",
    "                while intersect:\n",
    "                    intersect = False\n",
    "                    if map_obj[coord[0]][coord[1]] == -1:\n",
    "                        intersect = True\n",
    "                        coord = (random.randint(1, 8), random.randint(1, 8))\n",
    "                        continue\n",
    "                    for obj in self.objects:\n",
    "                        if coord == obj[1]:\n",
    "                            intersect = True\n",
    "                            coord = (random.randint(1, 8), random.randint(1, 8))\n",
    "\n",
    "                self.objects.append((obj_name, coord))\n",
    "\n",
    "            return self.objects"
   ]
  },
  {
   "cell_type": "code",
   "execution_count": 7,
   "metadata": {},
   "outputs": [],
   "source": [
    "def create_level(factory):\n",
    "    map_obj = factory.Map()\n",
    "    objects = factory.Objects()\n",
    "    \n",
    "    print(map_obj.get_map())\n",
    "    print(objects.get_objects(map_obj.get_map()))"
   ]
  },
  {
   "cell_type": "code",
   "execution_count": 8,
   "metadata": {},
   "outputs": [
    {
     "name": "stdout",
     "output_type": "stream",
     "text": [
      "[[-1, -1, -1, -1, -1], [-1, 2, 0, 2, -1], [-1, 2, 0, 1, -1], [-1, 2, 0, 0, -1], [-1, -1, -1, -1, -1]]\n",
      "[('next_lvl', (2, 2)), ('rat', (2, 1))]\n"
     ]
    }
   ],
   "source": [
    "create_level(EasyLevel)"
   ]
  },
  {
   "cell_type": "code",
   "execution_count": 9,
   "metadata": {},
   "outputs": [
    {
     "name": "stdout",
     "output_type": "stream",
     "text": [
      "[[-1, -1, -1, -1, -1, -1, -1, -1], [-1, 2, 1, 1, 2, 0, 2, -1], [-1, 1, 2, 2, 1, 2, 2, -1], [-1, 0, 0, 0, 1, 0, 0, -1], [-1, 1, 2, 2, 0, 2, 2, -1], [-1, 0, 1, 1, 0, 1, 2, -1], [-1, 1, 0, 0, 0, 0, 2, -1], [-1, -1, -1, -1, -1, -1, -1, -1]]\n",
      "[('next_lvl', (4, 4)), ('rat', (3, 3)), ('snake', (6, 5))]\n"
     ]
    }
   ],
   "source": [
    "create_level(MediumLevel)"
   ]
  },
  {
   "cell_type": "code",
   "execution_count": 10,
   "metadata": {},
   "outputs": [
    {
     "name": "stdout",
     "output_type": "stream",
     "text": [
      "[[-1, -1, -1, -1, -1, -1, -1, -1, -1, -1], [-1, 0, 0, 6, 1, 0, 3, 7, 0, -1], [-1, 5, 3, 8, -1, 0, 0, 7, 2, -1], [-1, -1, 7, 2, 1, 2, 8, 4, 2, -1], [-1, 3, 4, 0, 3, 4, -1, -1, 1, -1], [-1, -1, 5, 1, -1, -1, 6, 4, 3, -1], [-1, 1, 2, 2, 6, 1, 4, 4, 4, -1], [-1, 6, 6, 4, -1, 6, 0, 3, -1, -1], [-1, 5, -1, 1, 5, 8, 3, 5, 2, -1], [-1, -1, -1, -1, -1, -1, -1, -1, -1, -1]]\n",
      "[('next_lvl', (5, 5)), ('rat', (2, 1)), ('snake', (4, 3))]\n"
     ]
    }
   ],
   "source": [
    "create_level(HardLevel)"
   ]
  },
  {
   "cell_type": "code",
   "execution_count": null,
   "metadata": {},
   "outputs": [],
   "source": []
  }
 ],
 "metadata": {
  "kernelspec": {
   "display_name": "Python 3",
   "language": "python",
   "name": "python3"
  },
  "language_info": {
   "codemirror_mode": {
    "name": "ipython",
    "version": 3
   },
   "file_extension": ".py",
   "mimetype": "text/x-python",
   "name": "python",
   "nbconvert_exporter": "python",
   "pygments_lexer": "ipython3",
   "version": "3.8.5"
  }
 },
 "nbformat": 4,
 "nbformat_minor": 4
}
