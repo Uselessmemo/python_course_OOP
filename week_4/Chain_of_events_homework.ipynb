{
 "cells": [
  {
   "cell_type": "code",
   "execution_count": 101,
   "metadata": {},
   "outputs": [],
   "source": [
    "class SomeObject:\n",
    "    def __init__(self):\n",
    "        self.integer_field = 0\n",
    "        self.float_field = 0.0\n",
    "        self.string_field = \"\""
   ]
  },
  {
   "cell_type": "code",
   "execution_count": 102,
   "metadata": {},
   "outputs": [],
   "source": [
    "class EventGet:\n",
    "    def __init__(self, type):\n",
    "        self.type = type"
   ]
  },
  {
   "cell_type": "code",
   "execution_count": 103,
   "metadata": {},
   "outputs": [],
   "source": [
    "class EventSet:\n",
    "    def __init__(self, value):\n",
    "        self.value = value\n",
    "            "
   ]
  },
  {
   "cell_type": "code",
   "execution_count": 115,
   "metadata": {},
   "outputs": [],
   "source": [
    "class NullHandler:\n",
    "    \n",
    "    def __init__(self, successor=None):\n",
    "        self.successor = successor\n",
    "\n",
    "    def handle(self, obj, event):\n",
    "        if self.successor is not None:\n",
    "            return self.successor.handle(obj, event)"
   ]
  },
  {
   "cell_type": "code",
   "execution_count": 130,
   "metadata": {},
   "outputs": [],
   "source": [
    "class IntHandler(NullHandler):\n",
    "    def handle(self, obj, event):\n",
    "        if isinstance(event, EventGet):\n",
    "            if event.type == int:\n",
    "                return obj.integer_field\n",
    "            else:\n",
    "                return super().handle(obj, event)\n",
    "                \n",
    "        if isinstance(event, EventSet):\n",
    "            if isinstance(event.value, int):\n",
    "                obj.integer_field = event.value\n",
    "            else:\n",
    "                super().handle(obj, event)"
   ]
  },
  {
   "cell_type": "code",
   "execution_count": 131,
   "metadata": {},
   "outputs": [],
   "source": [
    "class FloatHandler(NullHandler):\n",
    "    def handle(self, obj, event):\n",
    "        if isinstance(event, EventGet):\n",
    "            if event.type == float:\n",
    "                return obj.float_field\n",
    "            else:\n",
    "                return super().handle(obj, event)\n",
    "                \n",
    "        if isinstance(event, EventSet):\n",
    "            if isinstance(event.value, float):\n",
    "                obj.float_field = event.value\n",
    "            else:\n",
    "                super().handle(obj, event)"
   ]
  },
  {
   "cell_type": "code",
   "execution_count": 132,
   "metadata": {},
   "outputs": [],
   "source": [
    "class StrHandler(NullHandler):\n",
    "    def handle(self, obj, event):\n",
    "        if isinstance(event, EventGet):\n",
    "            if event.type == str:\n",
    "                return obj.string_field\n",
    "            else:\n",
    "                return super().handle(obj, event)\n",
    "                \n",
    "        if isinstance(event, EventSet):\n",
    "            if isinstance(event.value, str):\n",
    "                obj.string_field = event.value\n",
    "            else:\n",
    "                super().handle(obj, event)"
   ]
  },
  {
   "cell_type": "code",
   "execution_count": 133,
   "metadata": {},
   "outputs": [],
   "source": [
    "obj = SomeObject()\n",
    "obj.integer_field = 42\n",
    "obj.float_field = 3.14\n",
    "obj.string_field = \"some text\"\n",
    "chain = IntHandler(FloatHandler(StrHandler(NullHandler)))"
   ]
  },
  {
   "cell_type": "code",
   "execution_count": 134,
   "metadata": {
    "scrolled": true
   },
   "outputs": [
    {
     "data": {
      "text/plain": [
       "3.14"
      ]
     },
     "execution_count": 134,
     "metadata": {},
     "output_type": "execute_result"
    }
   ],
   "source": [
    "chain.handle(obj, EventGet(float))"
   ]
  },
  {
   "cell_type": "code",
   "execution_count": 135,
   "metadata": {},
   "outputs": [
    {
     "data": {
      "text/plain": [
       "'some text'"
      ]
     },
     "execution_count": 135,
     "metadata": {},
     "output_type": "execute_result"
    }
   ],
   "source": [
    "chain.handle(obj, EventGet(str))"
   ]
  },
  {
   "cell_type": "code",
   "execution_count": 136,
   "metadata": {},
   "outputs": [
    {
     "data": {
      "text/plain": [
       "42"
      ]
     },
     "execution_count": 136,
     "metadata": {},
     "output_type": "execute_result"
    }
   ],
   "source": [
    "chain.handle(obj, EventGet(int))"
   ]
  },
  {
   "cell_type": "code",
   "execution_count": 137,
   "metadata": {},
   "outputs": [],
   "source": [
    "chain.handle(obj, EventSet(100))"
   ]
  },
  {
   "cell_type": "code",
   "execution_count": 138,
   "metadata": {},
   "outputs": [
    {
     "data": {
      "text/plain": [
       "100"
      ]
     },
     "execution_count": 138,
     "metadata": {},
     "output_type": "execute_result"
    }
   ],
   "source": [
    "chain.handle(obj, EventGet(int))"
   ]
  },
  {
   "cell_type": "code",
   "execution_count": 139,
   "metadata": {},
   "outputs": [],
   "source": [
    "chain.handle(obj, EventSet(0.5))"
   ]
  },
  {
   "cell_type": "code",
   "execution_count": 140,
   "metadata": {},
   "outputs": [
    {
     "data": {
      "text/plain": [
       "0.5"
      ]
     },
     "execution_count": 140,
     "metadata": {},
     "output_type": "execute_result"
    }
   ],
   "source": [
    "chain.handle(obj, EventGet(float))"
   ]
  },
  {
   "cell_type": "code",
   "execution_count": 141,
   "metadata": {},
   "outputs": [],
   "source": [
    "chain.handle(obj, EventSet('new text'))"
   ]
  },
  {
   "cell_type": "code",
   "execution_count": 142,
   "metadata": {},
   "outputs": [
    {
     "data": {
      "text/plain": [
       "'new text'"
      ]
     },
     "execution_count": 142,
     "metadata": {},
     "output_type": "execute_result"
    }
   ],
   "source": [
    "chain.handle(obj, EventGet(str))"
   ]
  },
  {
   "cell_type": "code",
   "execution_count": null,
   "metadata": {},
   "outputs": [],
   "source": []
  }
 ],
 "metadata": {
  "kernelspec": {
   "display_name": "Python 3",
   "language": "python",
   "name": "python3"
  },
  "language_info": {
   "codemirror_mode": {
    "name": "ipython",
    "version": 3
   },
   "file_extension": ".py",
   "mimetype": "text/x-python",
   "name": "python",
   "nbconvert_exporter": "python",
   "pygments_lexer": "ipython3",
   "version": "3.8.5"
  }
 },
 "nbformat": 4,
 "nbformat_minor": 4
}
